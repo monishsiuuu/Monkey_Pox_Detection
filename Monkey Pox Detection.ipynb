{
 "cells": [
  {
   "cell_type": "code",
   "execution_count": 2,
   "metadata": {},
   "outputs": [],
   "source": [
    "import cv2\n",
    "import numpy as np\n",
    "import matplotlib.pyplot as plt\n",
    "from keras.models import Sequential\n",
    "from keras.utils import load_img, img_to_array\n",
    "from keras.preprocessing.image import ImageDataGenerator\n",
    "from keras.layers import Conv2D, MaxPooling2D, Flatten, Dense, Dropout\n",
    "\n",
    "%matplotlib inline"
   ]
  },
  {
   "cell_type": "code",
   "execution_count": 3,
   "metadata": {},
   "outputs": [],
   "source": [
    "image_gen = ImageDataGenerator(rotation_range=20,\n",
    "                               shear_range=0.2,\n",
    "                               rescale=1/255,\n",
    "                               zoom_range=0.2,\n",
    "                               fill_mode='nearest',\n",
    "                               width_shift_range=0.1,\n",
    "                               height_shift_range=0.1)"
   ]
  },
  {
   "cell_type": "code",
   "execution_count": 81,
   "metadata": {},
   "outputs": [
    {
     "data": {
      "text/plain": [
       "(800, 1200, 3)"
      ]
     },
     "execution_count": 81,
     "metadata": {},
     "output_type": "execute_result"
    }
   ],
   "source": [
    "image = cv2.imread(\"./Monkey_Pox_Data/train/Monkey_Pox/M01_01_09.jpg\")\n",
    "image.shape"
   ]
  },
  {
   "cell_type": "code",
   "execution_count": 52,
   "metadata": {},
   "outputs": [
    {
     "name": "stdout",
     "output_type": "stream",
     "text": [
      "Found 3193 images belonging to 2 classes.\n",
      "Found 228 images belonging to 2 classes.\n"
     ]
    }
   ],
   "source": [
    "train_image_gen = image_gen.flow_from_directory(\"./Monkey_Pox_Data/train\", batch_size=16, class_mode='binary', target_size=(200, 200))\n",
    "\n",
    "test_image_gen = image_gen.flow_from_directory(\"./Monkey_Pox_Data/test\", batch_size=16, class_mode='binary', target_size=(200, 200))"
   ]
  },
  {
   "cell_type": "code",
   "execution_count": 55,
   "metadata": {},
   "outputs": [],
   "source": [
    "model = Sequential()\n",
    "\n",
    "model.add(Conv2D(filters=32, kernel_size=(3, 3), activation=\"relu\", input_shape=(200, 200, 3)))\n",
    "model.add(MaxPooling2D(pool_size=(2, 2)))\n",
    "\n",
    "model.add(Conv2D(filters=64, kernel_size=(3, 3), activation=\"relu\", input_shape=(200, 200, 3)))\n",
    "model.add(MaxPooling2D(pool_size=(2, 2)))\n",
    "\n",
    "model.add(Conv2D(filters=64, kernel_size=(3, 3), activation=\"relu\", input_shape=(200, 200, 3)))\n",
    "model.add(MaxPooling2D(pool_size=(2, 2)))\n",
    "\n",
    "model.add(Flatten())\n",
    "\n",
    "model.add(Dense(128, activation=\"relu\"))\n",
    "\n",
    "model.add(Dropout(0.5))\n",
    "\n",
    "model.add(Dense(1, activation=\"sigmoid\"))\n",
    "\n",
    "model.compile(loss=\"binary_crossentropy\", optimizer=\"adam\", metrics=[\"accuracy\"])"
   ]
  },
  {
   "cell_type": "code",
   "execution_count": 64,
   "metadata": {},
   "outputs": [
    {
     "name": "stdout",
     "output_type": "stream",
     "text": [
      "Epoch 1/30\n",
      "150/150 [==============================] - 145s 962ms/step - loss: 0.5796 - accuracy: 0.7038 - val_loss: 0.5771 - val_accuracy: 0.7188\n",
      "Epoch 2/30\n",
      "150/150 [==============================] - 143s 953ms/step - loss: 0.5637 - accuracy: 0.7254 - val_loss: 0.5784 - val_accuracy: 0.7083\n",
      "Epoch 3/30\n",
      "150/150 [==============================] - 129s 860ms/step - loss: 0.5520 - accuracy: 0.7254 - val_loss: 0.5354 - val_accuracy: 0.7448\n",
      "Epoch 4/30\n",
      "150/150 [==============================] - 128s 854ms/step - loss: 0.5551 - accuracy: 0.7288 - val_loss: 0.5060 - val_accuracy: 0.7552\n",
      "Epoch 5/30\n",
      "150/150 [==============================] - 130s 866ms/step - loss: 0.5504 - accuracy: 0.7221 - val_loss: 0.4793 - val_accuracy: 0.8021\n",
      "Epoch 6/30\n",
      "150/150 [==============================] - 131s 869ms/step - loss: 0.5373 - accuracy: 0.7321 - val_loss: 0.4803 - val_accuracy: 0.7656\n",
      "Epoch 7/30\n",
      "150/150 [==============================] - 130s 864ms/step - loss: 0.5421 - accuracy: 0.7254 - val_loss: 0.6006 - val_accuracy: 0.6719\n",
      "Epoch 8/30\n",
      "150/150 [==============================] - 117s 778ms/step - loss: 0.5273 - accuracy: 0.7379 - val_loss: 0.5118 - val_accuracy: 0.7656\n",
      "Epoch 9/30\n",
      "150/150 [==============================] - 114s 760ms/step - loss: 0.5109 - accuracy: 0.7412 - val_loss: 0.5061 - val_accuracy: 0.7448\n",
      "Epoch 10/30\n",
      "150/150 [==============================] - 116s 772ms/step - loss: 0.5213 - accuracy: 0.7446 - val_loss: 0.4762 - val_accuracy: 0.7552\n",
      "Epoch 11/30\n",
      "150/150 [==============================] - 113s 756ms/step - loss: 0.5048 - accuracy: 0.7546 - val_loss: 0.4685 - val_accuracy: 0.7656\n",
      "Epoch 12/30\n",
      "150/150 [==============================] - 114s 761ms/step - loss: 0.4916 - accuracy: 0.7509 - val_loss: 0.3843 - val_accuracy: 0.8281\n",
      "Epoch 13/30\n",
      "150/150 [==============================] - 113s 756ms/step - loss: 0.4963 - accuracy: 0.7534 - val_loss: 0.4711 - val_accuracy: 0.7604\n",
      "Epoch 14/30\n",
      "150/150 [==============================] - 112s 748ms/step - loss: 0.4931 - accuracy: 0.7664 - val_loss: 0.4959 - val_accuracy: 0.7500\n",
      "Epoch 15/30\n",
      "150/150 [==============================] - 117s 778ms/step - loss: 0.4860 - accuracy: 0.7646 - val_loss: 0.4371 - val_accuracy: 0.8229\n",
      "Epoch 16/30\n",
      "150/150 [==============================] - 113s 748ms/step - loss: 0.4711 - accuracy: 0.7688 - val_loss: 0.4568 - val_accuracy: 0.7292\n",
      "Epoch 17/30\n",
      "150/150 [==============================] - 114s 760ms/step - loss: 0.4813 - accuracy: 0.7729 - val_loss: 0.4706 - val_accuracy: 0.7396\n",
      "Epoch 18/30\n",
      "150/150 [==============================] - 113s 750ms/step - loss: 0.4598 - accuracy: 0.7789 - val_loss: 0.5031 - val_accuracy: 0.7708\n",
      "Epoch 19/30\n",
      "150/150 [==============================] - 112s 746ms/step - loss: 0.4596 - accuracy: 0.7852 - val_loss: 0.4438 - val_accuracy: 0.7969\n",
      "Epoch 20/30\n",
      "150/150 [==============================] - 112s 749ms/step - loss: 0.4513 - accuracy: 0.7802 - val_loss: 0.4031 - val_accuracy: 0.8125\n",
      "Epoch 21/30\n",
      "150/150 [==============================] - 112s 748ms/step - loss: 0.4600 - accuracy: 0.7829 - val_loss: 0.4676 - val_accuracy: 0.7656\n",
      "Epoch 22/30\n",
      "150/150 [==============================] - 112s 748ms/step - loss: 0.4639 - accuracy: 0.7677 - val_loss: 0.3860 - val_accuracy: 0.8125\n",
      "Epoch 23/30\n",
      "150/150 [==============================] - 113s 754ms/step - loss: 0.4622 - accuracy: 0.7756 - val_loss: 0.4647 - val_accuracy: 0.7917\n",
      "Epoch 24/30\n",
      "150/150 [==============================] - 2140s 14s/step - loss: 0.4291 - accuracy: 0.7990 - val_loss: 0.3637 - val_accuracy: 0.8281\n",
      "Epoch 25/30\n",
      "150/150 [==============================] - 113s 753ms/step - loss: 0.4601 - accuracy: 0.7915 - val_loss: 0.4013 - val_accuracy: 0.8073\n",
      "Epoch 26/30\n",
      "150/150 [==============================] - 114s 758ms/step - loss: 0.4305 - accuracy: 0.7835 - val_loss: 0.3556 - val_accuracy: 0.8438\n",
      "Epoch 27/30\n",
      "150/150 [==============================] - 112s 748ms/step - loss: 0.4331 - accuracy: 0.7969 - val_loss: 0.3465 - val_accuracy: 0.8333\n",
      "Epoch 28/30\n",
      "150/150 [==============================] - 112s 748ms/step - loss: 0.4181 - accuracy: 0.8044 - val_loss: 0.3575 - val_accuracy: 0.8333\n",
      "Epoch 29/30\n",
      "150/150 [==============================] - 113s 753ms/step - loss: 0.4137 - accuracy: 0.8074 - val_loss: 0.3941 - val_accuracy: 0.7656\n",
      "Epoch 30/30\n",
      "150/150 [==============================] - 112s 747ms/step - loss: 0.4062 - accuracy: 0.8061 - val_loss: 0.4188 - val_accuracy: 0.7917\n"
     ]
    },
    {
     "data": {
      "text/plain": [
       "<keras.callbacks.History at 0x1b8bd49b7f0>"
      ]
     },
     "execution_count": 64,
     "metadata": {},
     "output_type": "execute_result"
    }
   ],
   "source": [
    "model.fit(train_image_gen, epochs=30, steps_per_epoch=150,\n",
    "          validation_data=train_image_gen, validation_steps=12)"
   ]
  },
  {
   "cell_type": "code",
   "execution_count": 82,
   "metadata": {},
   "outputs": [
    {
     "data": {
      "text/plain": [
       "(1, 200, 200, 3)"
      ]
     },
     "execution_count": 82,
     "metadata": {},
     "output_type": "execute_result"
    }
   ],
   "source": [
    "monkey_pox = load_img(\"./Skin_Cancer_Test.jpg\", target_size=(200, 200))\n",
    "\n",
    "monkey_pox = img_to_array(monkey_pox)\n",
    "\n",
    "monkey_pox = monkey_pox / monkey_pox.max()\n",
    "\n",
    "monkey_pox = np.expand_dims(monkey_pox, axis=0)\n",
    "\n",
    "monkey_pox.shape"
   ]
  },
  {
   "cell_type": "code",
   "execution_count": 83,
   "metadata": {},
   "outputs": [
    {
     "name": "stdout",
     "output_type": "stream",
     "text": [
      "1/1 [==============================] - 0s 273ms/step\n"
     ]
    },
    {
     "data": {
      "text/plain": [
       "array([[0.0526654]], dtype=float32)"
      ]
     },
     "execution_count": 83,
     "metadata": {},
     "output_type": "execute_result"
    }
   ],
   "source": [
    "predictions = model.predict(monkey_pox)\n",
    "\n",
    "predictions"
   ]
  },
  {
   "cell_type": "code",
   "execution_count": 84,
   "metadata": {},
   "outputs": [
    {
     "name": "stdout",
     "output_type": "stream",
     "text": [
      "Monkey Pox\n"
     ]
    }
   ],
   "source": [
    "result = \"nothing\"\n",
    "\n",
    "if predictions[0] < 0.5:\n",
    "    result = \"Monkey Pox\"\n",
    "else:\n",
    "    result = \"Others\"\n",
    "    \n",
    "print(result)"
   ]
  },
  {
   "cell_type": "code",
   "execution_count": 68,
   "metadata": {},
   "outputs": [],
   "source": [
    "model.save(\"Monkey_Pox(30).h5\")"
   ]
  }
 ],
 "metadata": {
  "kernelspec": {
   "display_name": "Python 3",
   "language": "python",
   "name": "python3"
  },
  "language_info": {
   "codemirror_mode": {
    "name": "ipython",
    "version": 3
   },
   "file_extension": ".py",
   "mimetype": "text/x-python",
   "name": "python",
   "nbconvert_exporter": "python",
   "pygments_lexer": "ipython3",
   "version": "3.8.3"
  }
 },
 "nbformat": 4,
 "nbformat_minor": 4
}
